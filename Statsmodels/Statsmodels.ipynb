{
 "cells": [
  {
   "cell_type": "code",
   "execution_count": 11,
   "metadata": {},
   "outputs": [],
   "source": [
    "import numpy as np\n",
    "import pandas as pd\n",
    "import statsmodels.api as sm"
   ]
  },
  {
   "cell_type": "code",
   "execution_count": 12,
   "metadata": {},
   "outputs": [],
   "source": [
    "data = pd.read_excel('may.xlsx')"
   ]
  },
  {
   "cell_type": "code",
   "execution_count": 13,
   "metadata": {},
   "outputs": [
    {
     "data": {
      "text/html": [
       "<div>\n",
       "<style scoped>\n",
       "    .dataframe tbody tr th:only-of-type {\n",
       "        vertical-align: middle;\n",
       "    }\n",
       "\n",
       "    .dataframe tbody tr th {\n",
       "        vertical-align: top;\n",
       "    }\n",
       "\n",
       "    .dataframe thead th {\n",
       "        text-align: right;\n",
       "    }\n",
       "</style>\n",
       "<table border=\"1\" class=\"dataframe\">\n",
       "  <thead>\n",
       "    <tr style=\"text-align: right;\">\n",
       "      <th></th>\n",
       "      <th>Date</th>\n",
       "      <th>Rms Sold</th>\n",
       "      <th>Rms To Sell</th>\n",
       "      <th>Occ</th>\n",
       "      <th>Arr Rms</th>\n",
       "      <th>Arr Res</th>\n",
       "      <th>SO Rms</th>\n",
       "      <th>Deprt Rms</th>\n",
       "      <th>Deprt Res</th>\n",
       "      <th>Cmp Rms</th>\n",
       "      <th>No Show Rms</th>\n",
       "      <th>Trans Rms</th>\n",
       "    </tr>\n",
       "  </thead>\n",
       "  <tbody>\n",
       "    <tr>\n",
       "      <th>0</th>\n",
       "      <td>02/23/2023 Thu</td>\n",
       "      <td>146</td>\n",
       "      <td>4</td>\n",
       "      <td>97.333333</td>\n",
       "      <td>102</td>\n",
       "      <td>101</td>\n",
       "      <td>44</td>\n",
       "      <td>43</td>\n",
       "      <td>42</td>\n",
       "      <td>3</td>\n",
       "      <td>2</td>\n",
       "      <td>132</td>\n",
       "    </tr>\n",
       "    <tr>\n",
       "      <th>1</th>\n",
       "      <td>02/24/2023 Fri</td>\n",
       "      <td>140</td>\n",
       "      <td>10</td>\n",
       "      <td>93.333333</td>\n",
       "      <td>103</td>\n",
       "      <td>102</td>\n",
       "      <td>37</td>\n",
       "      <td>109</td>\n",
       "      <td>108</td>\n",
       "      <td>1</td>\n",
       "      <td>1</td>\n",
       "      <td>119</td>\n",
       "    </tr>\n",
       "    <tr>\n",
       "      <th>2</th>\n",
       "      <td>02/25/2023 Sat</td>\n",
       "      <td>140</td>\n",
       "      <td>10</td>\n",
       "      <td>93.333333</td>\n",
       "      <td>13</td>\n",
       "      <td>13</td>\n",
       "      <td>127</td>\n",
       "      <td>13</td>\n",
       "      <td>13</td>\n",
       "      <td>3</td>\n",
       "      <td>5</td>\n",
       "      <td>118</td>\n",
       "    </tr>\n",
       "    <tr>\n",
       "      <th>3</th>\n",
       "      <td>02/26/2023 Sun</td>\n",
       "      <td>79</td>\n",
       "      <td>14</td>\n",
       "      <td>52.666667</td>\n",
       "      <td>69</td>\n",
       "      <td>68</td>\n",
       "      <td>10</td>\n",
       "      <td>130</td>\n",
       "      <td>129</td>\n",
       "      <td>0</td>\n",
       "      <td>2</td>\n",
       "      <td>79</td>\n",
       "    </tr>\n",
       "    <tr>\n",
       "      <th>4</th>\n",
       "      <td>02/27/2023 Mon</td>\n",
       "      <td>105</td>\n",
       "      <td>33</td>\n",
       "      <td>70.000000</td>\n",
       "      <td>83</td>\n",
       "      <td>83</td>\n",
       "      <td>22</td>\n",
       "      <td>57</td>\n",
       "      <td>56</td>\n",
       "      <td>0</td>\n",
       "      <td>3</td>\n",
       "      <td>82</td>\n",
       "    </tr>\n",
       "  </tbody>\n",
       "</table>\n",
       "</div>"
      ],
      "text/plain": [
       "             Date  Rms Sold  Rms To Sell        Occ  Arr Rms  Arr Res  SO Rms   \n",
       "0  02/23/2023 Thu       146            4  97.333333      102      101      44  \\\n",
       "1  02/24/2023 Fri       140           10  93.333333      103      102      37   \n",
       "2  02/25/2023 Sat       140           10  93.333333       13       13     127   \n",
       "3  02/26/2023 Sun        79           14  52.666667       69       68      10   \n",
       "4  02/27/2023 Mon       105           33  70.000000       83       83      22   \n",
       "\n",
       "   Deprt Rms  Deprt Res  Cmp Rms  No Show Rms  Trans Rms  \n",
       "0         43         42        3            2        132  \n",
       "1        109        108        1            1        119  \n",
       "2         13         13        3            5        118  \n",
       "3        130        129        0            2         79  \n",
       "4         57         56        0            3         82  "
      ]
     },
     "execution_count": 13,
     "metadata": {},
     "output_type": "execute_result"
    }
   ],
   "source": [
    "data.head()"
   ]
  },
  {
   "cell_type": "code",
   "execution_count": 14,
   "metadata": {},
   "outputs": [],
   "source": [
    "def splitdate(x):\n",
    "    spli = x.split(\" \")\n",
    "    return spli[0]\n",
    "data['Date'] = data['Date'].apply(splitdate)\n",
    "# data.set_index('Date',inplace=True)"
   ]
  },
  {
   "cell_type": "code",
   "execution_count": 15,
   "metadata": {},
   "outputs": [
    {
     "data": {
      "text/html": [
       "<div>\n",
       "<style scoped>\n",
       "    .dataframe tbody tr th:only-of-type {\n",
       "        vertical-align: middle;\n",
       "    }\n",
       "\n",
       "    .dataframe tbody tr th {\n",
       "        vertical-align: top;\n",
       "    }\n",
       "\n",
       "    .dataframe thead th {\n",
       "        text-align: right;\n",
       "    }\n",
       "</style>\n",
       "<table border=\"1\" class=\"dataframe\">\n",
       "  <thead>\n",
       "    <tr style=\"text-align: right;\">\n",
       "      <th></th>\n",
       "      <th>Date</th>\n",
       "      <th>Rms Sold</th>\n",
       "      <th>Rms To Sell</th>\n",
       "      <th>Occ</th>\n",
       "      <th>Arr Rms</th>\n",
       "      <th>Arr Res</th>\n",
       "      <th>SO Rms</th>\n",
       "      <th>Deprt Rms</th>\n",
       "      <th>Deprt Res</th>\n",
       "      <th>Cmp Rms</th>\n",
       "      <th>No Show Rms</th>\n",
       "      <th>Trans Rms</th>\n",
       "    </tr>\n",
       "  </thead>\n",
       "  <tbody>\n",
       "    <tr>\n",
       "      <th>0</th>\n",
       "      <td>02/23/2023</td>\n",
       "      <td>146</td>\n",
       "      <td>4</td>\n",
       "      <td>97.333333</td>\n",
       "      <td>102</td>\n",
       "      <td>101</td>\n",
       "      <td>44</td>\n",
       "      <td>43</td>\n",
       "      <td>42</td>\n",
       "      <td>3</td>\n",
       "      <td>2</td>\n",
       "      <td>132</td>\n",
       "    </tr>\n",
       "    <tr>\n",
       "      <th>1</th>\n",
       "      <td>02/24/2023</td>\n",
       "      <td>140</td>\n",
       "      <td>10</td>\n",
       "      <td>93.333333</td>\n",
       "      <td>103</td>\n",
       "      <td>102</td>\n",
       "      <td>37</td>\n",
       "      <td>109</td>\n",
       "      <td>108</td>\n",
       "      <td>1</td>\n",
       "      <td>1</td>\n",
       "      <td>119</td>\n",
       "    </tr>\n",
       "    <tr>\n",
       "      <th>2</th>\n",
       "      <td>02/25/2023</td>\n",
       "      <td>140</td>\n",
       "      <td>10</td>\n",
       "      <td>93.333333</td>\n",
       "      <td>13</td>\n",
       "      <td>13</td>\n",
       "      <td>127</td>\n",
       "      <td>13</td>\n",
       "      <td>13</td>\n",
       "      <td>3</td>\n",
       "      <td>5</td>\n",
       "      <td>118</td>\n",
       "    </tr>\n",
       "    <tr>\n",
       "      <th>3</th>\n",
       "      <td>02/26/2023</td>\n",
       "      <td>79</td>\n",
       "      <td>14</td>\n",
       "      <td>52.666667</td>\n",
       "      <td>69</td>\n",
       "      <td>68</td>\n",
       "      <td>10</td>\n",
       "      <td>130</td>\n",
       "      <td>129</td>\n",
       "      <td>0</td>\n",
       "      <td>2</td>\n",
       "      <td>79</td>\n",
       "    </tr>\n",
       "    <tr>\n",
       "      <th>4</th>\n",
       "      <td>02/27/2023</td>\n",
       "      <td>105</td>\n",
       "      <td>33</td>\n",
       "      <td>70.000000</td>\n",
       "      <td>83</td>\n",
       "      <td>83</td>\n",
       "      <td>22</td>\n",
       "      <td>57</td>\n",
       "      <td>56</td>\n",
       "      <td>0</td>\n",
       "      <td>3</td>\n",
       "      <td>82</td>\n",
       "    </tr>\n",
       "  </tbody>\n",
       "</table>\n",
       "</div>"
      ],
      "text/plain": [
       "         Date  Rms Sold  Rms To Sell        Occ  Arr Rms  Arr Res  SO Rms   \n",
       "0  02/23/2023       146            4  97.333333      102      101      44  \\\n",
       "1  02/24/2023       140           10  93.333333      103      102      37   \n",
       "2  02/25/2023       140           10  93.333333       13       13     127   \n",
       "3  02/26/2023        79           14  52.666667       69       68      10   \n",
       "4  02/27/2023       105           33  70.000000       83       83      22   \n",
       "\n",
       "   Deprt Rms  Deprt Res  Cmp Rms  No Show Rms  Trans Rms  \n",
       "0         43         42        3            2        132  \n",
       "1        109        108        1            1        119  \n",
       "2         13         13        3            5        118  \n",
       "3        130        129        0            2         79  \n",
       "4         57         56        0            3         82  "
      ]
     },
     "execution_count": 15,
     "metadata": {},
     "output_type": "execute_result"
    }
   ],
   "source": [
    "data.head()"
   ]
  },
  {
   "cell_type": "code",
   "execution_count": 19,
   "metadata": {},
   "outputs": [],
   "source": [
    "datacol = data[['Date','Rms Sold']]\n",
    "datacol.set_index('Date',inplace=True)"
   ]
  },
  {
   "cell_type": "code",
   "execution_count": 25,
   "metadata": {},
   "outputs": [
    {
     "name": "stdout",
     "output_type": "stream",
     "text": [
      "            Rms Sold\n",
      "Date                \n",
      "02/23/2023       146\n",
      "02/24/2023       140\n",
      "02/25/2023       140\n",
      "02/26/2023        79\n",
      "02/27/2023       105\n",
      "...              ...\n",
      "05/07/2023        52\n",
      "05/08/2023        61\n",
      "05/09/2023        77\n",
      "05/10/2023       118\n",
      "05/11/2023        98\n",
      "\n",
      "[78 rows x 1 columns]\n"
     ]
    }
   ],
   "source": [
    "print(datacol)"
   ]
  },
  {
   "cell_type": "code",
   "execution_count": 20,
   "metadata": {},
   "outputs": [
    {
     "name": "stderr",
     "output_type": "stream",
     "text": [
      "c:\\Users\\GakuTokusumi\\AppData\\Local\\Programs\\Python\\Python311\\Lib\\site-packages\\statsmodels\\tsa\\base\\tsa_model.py:473: ValueWarning: No frequency information was provided, so inferred frequency D will be used.\n",
      "  self._init_dates(dates, freq)\n",
      "c:\\Users\\GakuTokusumi\\AppData\\Local\\Programs\\Python\\Python311\\Lib\\site-packages\\statsmodels\\tsa\\base\\tsa_model.py:473: ValueWarning: No frequency information was provided, so inferred frequency D will be used.\n",
      "  self._init_dates(dates, freq)\n",
      "c:\\Users\\GakuTokusumi\\AppData\\Local\\Programs\\Python\\Python311\\Lib\\site-packages\\statsmodels\\tsa\\base\\tsa_model.py:473: ValueWarning: No frequency information was provided, so inferred frequency D will be used.\n",
      "  self._init_dates(dates, freq)\n"
     ]
    }
   ],
   "source": [
    "model = sm.tsa.ARIMA(datacol,order=(1,1,1))"
   ]
  },
  {
   "cell_type": "code",
   "execution_count": 21,
   "metadata": {},
   "outputs": [],
   "source": [
    "results = model.fit()"
   ]
  },
  {
   "cell_type": "code",
   "execution_count": 22,
   "metadata": {},
   "outputs": [
    {
     "name": "stdout",
     "output_type": "stream",
     "text": [
      "                               SARIMAX Results                                \n",
      "==============================================================================\n",
      "Dep. Variable:               Rms Sold   No. Observations:                   78\n",
      "Model:                 ARIMA(1, 1, 1)   Log Likelihood                -356.333\n",
      "Date:                Fri, 12 May 2023   AIC                            718.666\n",
      "Time:                        13:32:13   BIC                            725.697\n",
      "Sample:                    02-23-2023   HQIC                           721.478\n",
      "                         - 05-11-2023                                         \n",
      "Covariance Type:                  opg                                         \n",
      "==============================================================================\n",
      "                 coef    std err          z      P>|z|      [0.025      0.975]\n",
      "------------------------------------------------------------------------------\n",
      "ar.L1          0.4267      0.142      3.010      0.003       0.149       0.705\n",
      "ma.L1         -0.9996      6.115     -0.163      0.870     -12.985      10.985\n",
      "sigma2       585.7768   3528.956      0.166      0.868   -6330.850    7502.404\n",
      "===================================================================================\n",
      "Ljung-Box (L1) (Q):                   0.02   Jarque-Bera (JB):                 5.18\n",
      "Prob(Q):                              0.88   Prob(JB):                         0.07\n",
      "Heteroskedasticity (H):               0.74   Skew:                            -0.64\n",
      "Prob(H) (two-sided):                  0.46   Kurtosis:                         2.96\n",
      "===================================================================================\n",
      "\n",
      "Warnings:\n",
      "[1] Covariance matrix calculated using the outer product of gradients (complex-step).\n"
     ]
    }
   ],
   "source": [
    "print(results.summary())"
   ]
  },
  {
   "cell_type": "code",
   "execution_count": 23,
   "metadata": {},
   "outputs": [],
   "source": [
    "forecast = results.forecast(steps=10)"
   ]
  },
  {
   "cell_type": "code",
   "execution_count": 24,
   "metadata": {},
   "outputs": [
    {
     "name": "stdout",
     "output_type": "stream",
     "text": [
      "2023-05-12    106.680418\n",
      "2023-05-13    110.384314\n",
      "2023-05-14    111.964749\n",
      "2023-05-15    112.639114\n",
      "2023-05-16    112.926862\n",
      "2023-05-17    113.049643\n",
      "2023-05-18    113.102034\n",
      "2023-05-19    113.124388\n",
      "2023-05-20    113.133927\n",
      "2023-05-21    113.137997\n",
      "Freq: D, Name: predicted_mean, dtype: float64\n"
     ]
    }
   ],
   "source": [
    "print(forecast)"
   ]
  },
  {
   "cell_type": "code",
   "execution_count": 27,
   "metadata": {},
   "outputs": [
    {
     "ename": "ValueError",
     "evalue": "could not convert string to float: '02/23/2023'",
     "output_type": "error",
     "traceback": [
      "\u001b[1;31m---------------------------------------------------------------------------\u001b[0m",
      "\u001b[1;31mValueError\u001b[0m                                Traceback (most recent call last)",
      "Cell \u001b[1;32mIn[27], line 10\u001b[0m\n\u001b[0;32m      7\u001b[0m data \u001b[39m=\u001b[39m datacol\n\u001b[0;32m      9\u001b[0m \u001b[39m# Decompose the data into its components\u001b[39;00m\n\u001b[1;32m---> 10\u001b[0m decomposition \u001b[39m=\u001b[39m sm\u001b[39m.\u001b[39;49mtsa\u001b[39m.\u001b[39;49mseasonal_decompose(data\u001b[39m.\u001b[39;49mindex[\u001b[39m0\u001b[39;49m], model\u001b[39m=\u001b[39;49m\u001b[39m'\u001b[39;49m\u001b[39madditive\u001b[39;49m\u001b[39m'\u001b[39;49m)\n\u001b[0;32m     12\u001b[0m \u001b[39m# Plot the decomposed data\u001b[39;00m\n\u001b[0;32m     13\u001b[0m fig, ax \u001b[39m=\u001b[39m plt\u001b[39m.\u001b[39msubplots(nrows\u001b[39m=\u001b[39m\u001b[39m4\u001b[39m, ncols\u001b[39m=\u001b[39m\u001b[39m1\u001b[39m, figsize\u001b[39m=\u001b[39m(\u001b[39m10\u001b[39m, \u001b[39m8\u001b[39m))\n",
      "File \u001b[1;32mc:\\Users\\GakuTokusumi\\AppData\\Local\\Programs\\Python\\Python311\\Lib\\site-packages\\statsmodels\\tsa\\seasonal.py:149\u001b[0m, in \u001b[0;36mseasonal_decompose\u001b[1;34m(x, model, filt, period, two_sided, extrapolate_trend)\u001b[0m\n\u001b[0;32m    146\u001b[0m \u001b[39mif\u001b[39;00m period \u001b[39mis\u001b[39;00m \u001b[39mNone\u001b[39;00m:\n\u001b[0;32m    147\u001b[0m     pfreq \u001b[39m=\u001b[39m \u001b[39mgetattr\u001b[39m(\u001b[39mgetattr\u001b[39m(x, \u001b[39m\"\u001b[39m\u001b[39mindex\u001b[39m\u001b[39m\"\u001b[39m, \u001b[39mNone\u001b[39;00m), \u001b[39m\"\u001b[39m\u001b[39minferred_freq\u001b[39m\u001b[39m\"\u001b[39m, \u001b[39mNone\u001b[39;00m)\n\u001b[1;32m--> 149\u001b[0m x \u001b[39m=\u001b[39m array_like(x, \u001b[39m\"\u001b[39;49m\u001b[39mx\u001b[39;49m\u001b[39m\"\u001b[39;49m, maxdim\u001b[39m=\u001b[39;49m\u001b[39m2\u001b[39;49m)\n\u001b[0;32m    150\u001b[0m nobs \u001b[39m=\u001b[39m \u001b[39mlen\u001b[39m(x)\n\u001b[0;32m    152\u001b[0m \u001b[39mif\u001b[39;00m \u001b[39mnot\u001b[39;00m np\u001b[39m.\u001b[39mall(np\u001b[39m.\u001b[39misfinite(x)):\n",
      "File \u001b[1;32mc:\\Users\\GakuTokusumi\\AppData\\Local\\Programs\\Python\\Python311\\Lib\\site-packages\\statsmodels\\tools\\validation\\validation.py:143\u001b[0m, in \u001b[0;36marray_like\u001b[1;34m(obj, name, dtype, ndim, maxdim, shape, order, contiguous, optional, writeable)\u001b[0m\n\u001b[0;32m    141\u001b[0m \u001b[39melif\u001b[39;00m order \u001b[39m==\u001b[39m \u001b[39m\"\u001b[39m\u001b[39mF\u001b[39m\u001b[39m\"\u001b[39m:\n\u001b[0;32m    142\u001b[0m     reqs \u001b[39m+\u001b[39m\u001b[39m=\u001b[39m [\u001b[39m\"\u001b[39m\u001b[39mF\u001b[39m\u001b[39m\"\u001b[39m]\n\u001b[1;32m--> 143\u001b[0m arr \u001b[39m=\u001b[39m np\u001b[39m.\u001b[39;49mrequire(obj, dtype\u001b[39m=\u001b[39;49mdtype, requirements\u001b[39m=\u001b[39;49mreqs)\n\u001b[0;32m    144\u001b[0m \u001b[39mif\u001b[39;00m maxdim \u001b[39mis\u001b[39;00m \u001b[39mnot\u001b[39;00m \u001b[39mNone\u001b[39;00m:\n\u001b[0;32m    145\u001b[0m     \u001b[39mif\u001b[39;00m arr\u001b[39m.\u001b[39mndim \u001b[39m>\u001b[39m maxdim:\n",
      "File \u001b[1;32mc:\\Users\\GakuTokusumi\\AppData\\Local\\Programs\\Python\\Python311\\Lib\\site-packages\\numpy\\core\\_asarray.py:130\u001b[0m, in \u001b[0;36mrequire\u001b[1;34m(a, dtype, requirements, like)\u001b[0m\n\u001b[0;32m    127\u001b[0m     order \u001b[39m=\u001b[39m \u001b[39m'\u001b[39m\u001b[39mC\u001b[39m\u001b[39m'\u001b[39m\n\u001b[0;32m    128\u001b[0m     requirements\u001b[39m.\u001b[39mremove(\u001b[39m'\u001b[39m\u001b[39mC\u001b[39m\u001b[39m'\u001b[39m)\n\u001b[1;32m--> 130\u001b[0m arr \u001b[39m=\u001b[39m array(a, dtype\u001b[39m=\u001b[39mdtype, order\u001b[39m=\u001b[39morder, copy\u001b[39m=\u001b[39m\u001b[39mFalse\u001b[39;00m, subok\u001b[39m=\u001b[39msubok)\n\u001b[0;32m    132\u001b[0m \u001b[39mfor\u001b[39;00m prop \u001b[39min\u001b[39;00m requirements:\n\u001b[0;32m    133\u001b[0m     \u001b[39mif\u001b[39;00m \u001b[39mnot\u001b[39;00m arr\u001b[39m.\u001b[39mflags[prop]:\n",
      "\u001b[1;31mValueError\u001b[0m: could not convert string to float: '02/23/2023'"
     ]
    }
   ],
   "source": [
    "import pandas as pd\n",
    "import numpy as np\n",
    "import matplotlib.pyplot as plt\n",
    "import statsmodels.api as sm\n",
    "\n",
    "# Load the data into a pandas DataFrame object\n",
    "data = datacol\n",
    "\n",
    "# Decompose the data into its components\n",
    "decomposition = sm.tsa.seasonal_decompose(data.index[0], model='additive')\n",
    "\n",
    "# Plot the decomposed data\n",
    "fig, ax = plt.subplots(nrows=4, ncols=1, figsize=(10, 8))\n",
    "decomposition.observed.plot(ax=ax[0], legend=False)\n",
    "ax[0].set_ylabel('Observed')\n",
    "decomposition.trend.plot(ax=ax[1], legend=False)\n",
    "ax[1].set_ylabel('Trend')\n",
    "decomposition.seasonal.plot(ax=ax[2], legend=False)\n",
    "ax[2].set_ylabel('Seasonal')\n",
    "decomposition.resid.plot(ax=ax[3], legend=False)\n",
    "ax[3].set_ylabel('Residual')\n",
    "plt.tight_layout()\n",
    "\n",
    "# Detrend the data by subtracting the trend component\n",
    "detrended_data = data - decomposition.trend\n",
    "\n",
    "# Test for stationarity using the Augmented Dickey-Fuller (ADF) test\n",
    "result = sm.tsa.stattools.adfuller(detrended_data)\n",
    "print('ADF Statistic: %f' % result[0])\n",
    "print('p-value: %f' % result[1])\n"
   ]
  }
 ],
 "metadata": {
  "kernelspec": {
   "display_name": "Python 3",
   "language": "python",
   "name": "python3"
  },
  "language_info": {
   "codemirror_mode": {
    "name": "ipython",
    "version": 3
   },
   "file_extension": ".py",
   "mimetype": "text/x-python",
   "name": "python",
   "nbconvert_exporter": "python",
   "pygments_lexer": "ipython3",
   "version": "3.11.3"
  },
  "orig_nbformat": 4
 },
 "nbformat": 4,
 "nbformat_minor": 2
}
