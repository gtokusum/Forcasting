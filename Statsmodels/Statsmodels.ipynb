{
 "cells": [
  {
   "cell_type": "code",
   "execution_count": 11,
   "metadata": {},
   "outputs": [],
   "source": [
    "import numpy as np\n",
    "import pandas as pd\n",
    "import statsmodels.api as sm"
   ]
  },
  {
   "cell_type": "code",
   "execution_count": 35,
   "metadata": {},
   "outputs": [],
   "source": [
    "data = pd.read_excel('may.xlsx')"
   ]
  },
  {
   "cell_type": "code",
   "execution_count": 13,
   "metadata": {},
   "outputs": [
    {
     "data": {
      "text/html": [
       "<div>\n",
       "<style scoped>\n",
       "    .dataframe tbody tr th:only-of-type {\n",
       "        vertical-align: middle;\n",
       "    }\n",
       "\n",
       "    .dataframe tbody tr th {\n",
       "        vertical-align: top;\n",
       "    }\n",
       "\n",
       "    .dataframe thead th {\n",
       "        text-align: right;\n",
       "    }\n",
       "</style>\n",
       "<table border=\"1\" class=\"dataframe\">\n",
       "  <thead>\n",
       "    <tr style=\"text-align: right;\">\n",
       "      <th></th>\n",
       "      <th>Date</th>\n",
       "      <th>Rms Sold</th>\n",
       "      <th>Rms To Sell</th>\n",
       "      <th>Occ</th>\n",
       "      <th>Arr Rms</th>\n",
       "      <th>Arr Res</th>\n",
       "      <th>SO Rms</th>\n",
       "      <th>Deprt Rms</th>\n",
       "      <th>Deprt Res</th>\n",
       "      <th>Cmp Rms</th>\n",
       "      <th>No Show Rms</th>\n",
       "      <th>Trans Rms</th>\n",
       "    </tr>\n",
       "  </thead>\n",
       "  <tbody>\n",
       "    <tr>\n",
       "      <th>0</th>\n",
       "      <td>02/23/2023 Thu</td>\n",
       "      <td>146</td>\n",
       "      <td>4</td>\n",
       "      <td>97.333333</td>\n",
       "      <td>102</td>\n",
       "      <td>101</td>\n",
       "      <td>44</td>\n",
       "      <td>43</td>\n",
       "      <td>42</td>\n",
       "      <td>3</td>\n",
       "      <td>2</td>\n",
       "      <td>132</td>\n",
       "    </tr>\n",
       "    <tr>\n",
       "      <th>1</th>\n",
       "      <td>02/24/2023 Fri</td>\n",
       "      <td>140</td>\n",
       "      <td>10</td>\n",
       "      <td>93.333333</td>\n",
       "      <td>103</td>\n",
       "      <td>102</td>\n",
       "      <td>37</td>\n",
       "      <td>109</td>\n",
       "      <td>108</td>\n",
       "      <td>1</td>\n",
       "      <td>1</td>\n",
       "      <td>119</td>\n",
       "    </tr>\n",
       "    <tr>\n",
       "      <th>2</th>\n",
       "      <td>02/25/2023 Sat</td>\n",
       "      <td>140</td>\n",
       "      <td>10</td>\n",
       "      <td>93.333333</td>\n",
       "      <td>13</td>\n",
       "      <td>13</td>\n",
       "      <td>127</td>\n",
       "      <td>13</td>\n",
       "      <td>13</td>\n",
       "      <td>3</td>\n",
       "      <td>5</td>\n",
       "      <td>118</td>\n",
       "    </tr>\n",
       "    <tr>\n",
       "      <th>3</th>\n",
       "      <td>02/26/2023 Sun</td>\n",
       "      <td>79</td>\n",
       "      <td>14</td>\n",
       "      <td>52.666667</td>\n",
       "      <td>69</td>\n",
       "      <td>68</td>\n",
       "      <td>10</td>\n",
       "      <td>130</td>\n",
       "      <td>129</td>\n",
       "      <td>0</td>\n",
       "      <td>2</td>\n",
       "      <td>79</td>\n",
       "    </tr>\n",
       "    <tr>\n",
       "      <th>4</th>\n",
       "      <td>02/27/2023 Mon</td>\n",
       "      <td>105</td>\n",
       "      <td>33</td>\n",
       "      <td>70.000000</td>\n",
       "      <td>83</td>\n",
       "      <td>83</td>\n",
       "      <td>22</td>\n",
       "      <td>57</td>\n",
       "      <td>56</td>\n",
       "      <td>0</td>\n",
       "      <td>3</td>\n",
       "      <td>82</td>\n",
       "    </tr>\n",
       "  </tbody>\n",
       "</table>\n",
       "</div>"
      ],
      "text/plain": [
       "             Date  Rms Sold  Rms To Sell        Occ  Arr Rms  Arr Res  SO Rms   \n",
       "0  02/23/2023 Thu       146            4  97.333333      102      101      44  \\\n",
       "1  02/24/2023 Fri       140           10  93.333333      103      102      37   \n",
       "2  02/25/2023 Sat       140           10  93.333333       13       13     127   \n",
       "3  02/26/2023 Sun        79           14  52.666667       69       68      10   \n",
       "4  02/27/2023 Mon       105           33  70.000000       83       83      22   \n",
       "\n",
       "   Deprt Rms  Deprt Res  Cmp Rms  No Show Rms  Trans Rms  \n",
       "0         43         42        3            2        132  \n",
       "1        109        108        1            1        119  \n",
       "2         13         13        3            5        118  \n",
       "3        130        129        0            2         79  \n",
       "4         57         56        0            3         82  "
      ]
     },
     "execution_count": 13,
     "metadata": {},
     "output_type": "execute_result"
    }
   ],
   "source": [
    "data.head()"
   ]
  },
  {
   "cell_type": "code",
   "execution_count": 14,
   "metadata": {},
   "outputs": [],
   "source": [
    "def splitdate(x):\n",
    "    spli = x.split(\" \")\n",
    "    return spli[0]\n",
    "data['Date'] = data['Date'].apply(splitdate)\n",
    "# data.set_index('Date',inplace=True)"
   ]
  },
  {
   "cell_type": "code",
   "execution_count": 15,
   "metadata": {},
   "outputs": [
    {
     "data": {
      "text/html": [
       "<div>\n",
       "<style scoped>\n",
       "    .dataframe tbody tr th:only-of-type {\n",
       "        vertical-align: middle;\n",
       "    }\n",
       "\n",
       "    .dataframe tbody tr th {\n",
       "        vertical-align: top;\n",
       "    }\n",
       "\n",
       "    .dataframe thead th {\n",
       "        text-align: right;\n",
       "    }\n",
       "</style>\n",
       "<table border=\"1\" class=\"dataframe\">\n",
       "  <thead>\n",
       "    <tr style=\"text-align: right;\">\n",
       "      <th></th>\n",
       "      <th>Date</th>\n",
       "      <th>Rms Sold</th>\n",
       "      <th>Rms To Sell</th>\n",
       "      <th>Occ</th>\n",
       "      <th>Arr Rms</th>\n",
       "      <th>Arr Res</th>\n",
       "      <th>SO Rms</th>\n",
       "      <th>Deprt Rms</th>\n",
       "      <th>Deprt Res</th>\n",
       "      <th>Cmp Rms</th>\n",
       "      <th>No Show Rms</th>\n",
       "      <th>Trans Rms</th>\n",
       "    </tr>\n",
       "  </thead>\n",
       "  <tbody>\n",
       "    <tr>\n",
       "      <th>0</th>\n",
       "      <td>02/23/2023</td>\n",
       "      <td>146</td>\n",
       "      <td>4</td>\n",
       "      <td>97.333333</td>\n",
       "      <td>102</td>\n",
       "      <td>101</td>\n",
       "      <td>44</td>\n",
       "      <td>43</td>\n",
       "      <td>42</td>\n",
       "      <td>3</td>\n",
       "      <td>2</td>\n",
       "      <td>132</td>\n",
       "    </tr>\n",
       "    <tr>\n",
       "      <th>1</th>\n",
       "      <td>02/24/2023</td>\n",
       "      <td>140</td>\n",
       "      <td>10</td>\n",
       "      <td>93.333333</td>\n",
       "      <td>103</td>\n",
       "      <td>102</td>\n",
       "      <td>37</td>\n",
       "      <td>109</td>\n",
       "      <td>108</td>\n",
       "      <td>1</td>\n",
       "      <td>1</td>\n",
       "      <td>119</td>\n",
       "    </tr>\n",
       "    <tr>\n",
       "      <th>2</th>\n",
       "      <td>02/25/2023</td>\n",
       "      <td>140</td>\n",
       "      <td>10</td>\n",
       "      <td>93.333333</td>\n",
       "      <td>13</td>\n",
       "      <td>13</td>\n",
       "      <td>127</td>\n",
       "      <td>13</td>\n",
       "      <td>13</td>\n",
       "      <td>3</td>\n",
       "      <td>5</td>\n",
       "      <td>118</td>\n",
       "    </tr>\n",
       "    <tr>\n",
       "      <th>3</th>\n",
       "      <td>02/26/2023</td>\n",
       "      <td>79</td>\n",
       "      <td>14</td>\n",
       "      <td>52.666667</td>\n",
       "      <td>69</td>\n",
       "      <td>68</td>\n",
       "      <td>10</td>\n",
       "      <td>130</td>\n",
       "      <td>129</td>\n",
       "      <td>0</td>\n",
       "      <td>2</td>\n",
       "      <td>79</td>\n",
       "    </tr>\n",
       "    <tr>\n",
       "      <th>4</th>\n",
       "      <td>02/27/2023</td>\n",
       "      <td>105</td>\n",
       "      <td>33</td>\n",
       "      <td>70.000000</td>\n",
       "      <td>83</td>\n",
       "      <td>83</td>\n",
       "      <td>22</td>\n",
       "      <td>57</td>\n",
       "      <td>56</td>\n",
       "      <td>0</td>\n",
       "      <td>3</td>\n",
       "      <td>82</td>\n",
       "    </tr>\n",
       "  </tbody>\n",
       "</table>\n",
       "</div>"
      ],
      "text/plain": [
       "         Date  Rms Sold  Rms To Sell        Occ  Arr Rms  Arr Res  SO Rms   \n",
       "0  02/23/2023       146            4  97.333333      102      101      44  \\\n",
       "1  02/24/2023       140           10  93.333333      103      102      37   \n",
       "2  02/25/2023       140           10  93.333333       13       13     127   \n",
       "3  02/26/2023        79           14  52.666667       69       68      10   \n",
       "4  02/27/2023       105           33  70.000000       83       83      22   \n",
       "\n",
       "   Deprt Rms  Deprt Res  Cmp Rms  No Show Rms  Trans Rms  \n",
       "0         43         42        3            2        132  \n",
       "1        109        108        1            1        119  \n",
       "2         13         13        3            5        118  \n",
       "3        130        129        0            2         79  \n",
       "4         57         56        0            3         82  "
      ]
     },
     "execution_count": 15,
     "metadata": {},
     "output_type": "execute_result"
    }
   ],
   "source": [
    "data.head()"
   ]
  },
  {
   "cell_type": "code",
   "execution_count": 37,
   "metadata": {},
   "outputs": [],
   "source": [
    "import datetime\n",
    "datacol = data[['Date','Rms Sold']]\n",
    "data['Date'] = pd.to_datetime(data['Date'])\n",
    "datacol.set_index('Date',inplace=True)"
   ]
  },
  {
   "cell_type": "code",
   "execution_count": 45,
   "metadata": {},
   "outputs": [
    {
     "data": {
      "text/plain": [
       "[<matplotlib.lines.Line2D at 0x1c44d47f550>]"
      ]
     },
     "execution_count": 45,
     "metadata": {},
     "output_type": "execute_result"
    },
    {
     "data": {
      "image/png": "[encoded data removed]",
      "text/plain": [
       "<Figure size 640x480 with 1 Axes>"
      ]
     },
     "metadata": {},
     "output_type": "display_data"
    }
   ],
   "source": [
    "import matplotlib.pyplot as plt\n",
    "x = data.index\n",
    "y = data['Rms Sold']\n",
    "plt.plot(x,y)"
   ]
  },
  {
   "cell_type": "code",
   "execution_count": 20,
   "metadata": {},
   "outputs": [
    {
     "name": "stderr",
     "output_type": "stream",
     "text": [
      "c:\\Users\\GakuTokusumi\\AppData\\Local\\Programs\\Python\\Python311\\Lib\\site-packages\\statsmodels\\tsa\\base\\tsa_model.py:473: ValueWarning: No frequency information was provided, so inferred frequency D will be used.\n",
      "  self._init_dates(dates, freq)\n",
      "c:\\Users\\GakuTokusumi\\AppData\\Local\\Programs\\Python\\Python311\\Lib\\site-packages\\statsmodels\\tsa\\base\\tsa_model.py:473: ValueWarning: No frequency information was provided, so inferred frequency D will be used.\n",
      "  self._init_dates(dates, freq)\n",
      "c:\\Users\\GakuTokusumi\\AppData\\Local\\Programs\\Python\\Python311\\Lib\\site-packages\\statsmodels\\tsa\\base\\tsa_model.py:473: ValueWarning: No frequency information was provided, so inferred frequency D will be used.\n",
      "  self._init_dates(dates, freq)\n"
     ]
    }
   ],
   "source": [
    "model = sm.tsa.ARIMA(datacol,order=(1,1,1))"
   ]
  },
  {
   "cell_type": "code",
   "execution_count": 21,
   "metadata": {},
   "outputs": [],
   "source": [
    "results = model.fit()"
   ]
  },
  {
   "cell_type": "code",
   "execution_count": 22,
   "metadata": {},
   "outputs": [
    {
     "name": "stdout",
     "output_type": "stream",
     "text": [
      "                               SARIMAX Results                                \n",
      "==============================================================================\n",
      "Dep. Variable:               Rms Sold   No. Observations:                   78\n",
      "Model:                 ARIMA(1, 1, 1)   Log Likelihood                -356.333\n",
      "Date:                Fri, 12 May 2023   AIC                            718.666\n",
      "Time:                        13:32:13   BIC                            725.697\n",
      "Sample:                    02-23-2023   HQIC                           721.478\n",
      "                         - 05-11-2023                                         \n",
      "Covariance Type:                  opg                                         \n",
      "==============================================================================\n",
      "                 coef    std err          z      P>|z|      [0.025      0.975]\n",
      "------------------------------------------------------------------------------\n",
      "ar.L1          0.4267      0.142      3.010      0.003       0.149       0.705\n",
      "ma.L1         -0.9996      6.115     -0.163      0.870     -12.985      10.985\n",
      "sigma2       585.7768   3528.956      0.166      0.868   -6330.850    7502.404\n",
      "===================================================================================\n",
      "Ljung-Box (L1) (Q):                   0.02   Jarque-Bera (JB):                 5.18\n",
      "Prob(Q):                              0.88   Prob(JB):                         0.07\n",
      "Heteroskedasticity (H):               0.74   Skew:                            -0.64\n",
      "Prob(H) (two-sided):                  0.46   Kurtosis:                         2.96\n",
      "===================================================================================\n",
      "\n",
      "Warnings:\n",
      "[1] Covariance matrix calculated using the outer product of gradients (complex-step).\n"
     ]
    }
   ],
   "source": [
    "print(results.summary())"
   ]
  },
  {
   "cell_type": "code",
   "execution_count": 23,
   "metadata": {},
   "outputs": [],
   "source": [
    "forecast = results.forecast(steps=10)"
   ]
  },
  {
   "cell_type": "code",
   "execution_count": 24,
   "metadata": {},
   "outputs": [
    {
     "name": "stdout",
     "output_type": "stream",
     "text": [
      "2023-05-12    106.680418\n",
      "2023-05-13    110.384314\n",
      "2023-05-14    111.964749\n",
      "2023-05-15    112.639114\n",
      "2023-05-16    112.926862\n",
      "2023-05-17    113.049643\n",
      "2023-05-18    113.102034\n",
      "2023-05-19    113.124388\n",
      "2023-05-20    113.133927\n",
      "2023-05-21    113.137997\n",
      "Freq: D, Name: predicted_mean, dtype: float64\n"
     ]
    }
   ],
   "source": [
    "print(forecast)"
   ]
  },
  {
   "cell_type": "code",
   "execution_count": 41,
   "metadata": {},
   "outputs": [
    {
     "name": "stdout",
     "output_type": "stream",
     "text": [
      "ADF Statistic: -5.689135\n",
      "p-value: 0.000001\n"
     ]
    }
   ],
   "source": [
    "import pandas as pd\n",
    "import numpy as np\n",
    "import matplotlib.pyplot as plt\n",
    "import statsmodels.api as sm\n",
    "import datetime\n",
    "\n",
    "# Load the data into a pandas DataFrame object\n",
    "data = datacol\n",
    "# data.index = data.index.apply(datetime.datetime)\n",
    "# Decompose the data into its components\n",
    "# decomposition = sm.tsa.seasonal_decompose(data.index[0], model='additive')\n",
    "\n",
    "# # Plot the decomposed data\n",
    "# fig, ax = plt.subplots(nrows=4, ncols=1, figsize=(10, 8))\n",
    "# decomposition.observed.plot(ax=ax[0], legend=False)\n",
    "# ax[0].set_ylabel('Observed')\n",
    "# decomposition.trend.plot(ax=ax[1], legend=False)\n",
    "# ax[1].set_ylabel('Trend')\n",
    "# decomposition.seasonal.plot(ax=ax[2], legend=False)\n",
    "# ax[2].set_ylabel('Seasonal')\n",
    "# decomposition.resid.plot(ax=ax[3], legend=False)\n",
    "# ax[3].set_ylabel('Residual')\n",
    "# plt.tight_layout()\n",
    "\n",
    "# # Detrend the data by subtracting the trend component\n",
    "# detrended_data = data - decomposition.trend\n",
    "\n",
    "# Test for stationarity using the Augmented Dickey-Fuller (ADF) test\n",
    "result = sm.tsa.stattools.adfuller(data)\n",
    "print('ADF Statistic: %f' % result[0])\n",
    "print('p-value: %f' % result[1])\n"
   ]
  }
 ],
 "metadata": {
  "kernelspec": {
   "display_name": "Python 3",
   "language": "python",
   "name": "python3"
  },
  "language_info": {
   "codemirror_mode": {
    "name": "ipython",
    "version": 3
   },
   "file_extension": ".py",
   "mimetype": "text/x-python",
   "name": "python",
   "nbconvert_exporter": "python",
   "pygments_lexer": "ipython3",
   "version": "3.11.3"
  },
  "orig_nbformat": 4
 },
 "nbformat": 4,
 "nbformat_minor": 2
}
